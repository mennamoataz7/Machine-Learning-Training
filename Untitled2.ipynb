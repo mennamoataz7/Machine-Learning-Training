{
  "nbformat": 4,
  "nbformat_minor": 0,
  "metadata": {
    "colab": {
      "name": "Untitled2.ipynb",
      "provenance": [],
      "authorship_tag": "ABX9TyN/U3hOLksCujK9n73cCdqW",
      "include_colab_link": true
    },
    "kernelspec": {
      "name": "python3",
      "display_name": "Python 3"
    },
    "language_info": {
      "name": "python"
    }
  },
  "cells": [
    {
      "cell_type": "markdown",
      "metadata": {
        "id": "view-in-github",
        "colab_type": "text"
      },
      "source": [
        "<a href=\"https://colab.research.google.com/github/mennamoataz7/Machine-Learning-Training/blob/main/Untitled2.ipynb\" target=\"_parent\"><img src=\"https://colab.research.google.com/assets/colab-badge.svg\" alt=\"Open In Colab\"/></a>"
      ]
    },
    {
      "cell_type": "code",
      "metadata": {
        "id": "UmeWKg_6nndp"
      },
      "source": [
        "length_1= float (input('enter the length of the rectangle 1  '))\n",
        "width_1=float (input('enter the width of the rectangle 1  '))\n",
        "area_1=length_1*width_1\n",
        "length_2=float (input('enter the length of the rectangle 2  '))\n",
        "width_2=float (input('enter the width of the rectangle 2  '))\n",
        "area_2=length_2*width_2\n",
        "print('area of rectangle 1 is ',area_1)\n",
        "print('area of rectangle 2 is ',area_2)\n",
        "if area_1==area_2:\n",
        "  print('the two rectangles are of same area')\n",
        "if area_1>area_2:\n",
        "  print('area of rectangle 1 is greater than rectagle 2')\n",
        "if area_1<area_2:\n",
        "  print('area of rectangle 2 is greater than rectangle 1')"
      ],
      "execution_count": null,
      "outputs": []
    },
    {
      "cell_type": "code",
      "metadata": {
        "colab": {
          "base_uri": "https://localhost:8080/"
        },
        "id": "0dmVCF8Htlia",
        "outputId": "150cd63e-227f-4ec4-be12-034558521eaf"
      },
      "source": [
        "num=int (input('please enter the pocket number  '))\n",
        "if num==0:\n",
        " print('the pocket colour is green')\n",
        "if num >0 and num<11:\n",
        "  if num % 2 ==0:\n",
        "   print('the pocket colour is black') \n",
        "  else:\n",
        "    print('the pocket colour is red')\n",
        "elif num >10 and num<19:\n",
        "  if num % 2 ==0:\n",
        "   print('the pocket colour is red') \n",
        "  else:\n",
        "    print('the pocket colour is black')\n",
        "elif num >18 and num<29:\n",
        "  if num % 2 ==0:\n",
        "   print('the pocket colour is black') \n",
        "  else:\n",
        "    print('the pocket colour is red')\n",
        "elif num >28 and num<37:\n",
        "  if num % 2 ==0:\n",
        "   print('the pocket colour is red') \n",
        "  else:\n",
        "    print('the pocket colour is black')\n",
        "else:\n",
        "  print('error please enter number between 0 and 36')\n"
      ],
      "execution_count": 16,
      "outputs": [
        {
          "output_type": "stream",
          "text": [
            "please enter the pocket number  40\n",
            "error please enter number between 0 and 36\n"
          ],
          "name": "stdout"
        }
      ]
    },
    {
      "cell_type": "code",
      "metadata": {
        "colab": {
          "base_uri": "https://localhost:8080/"
        },
        "id": "YA8fDMbX3R-V",
        "outputId": "87c4ccab-860d-4af6-b3ed-ff274b161441"
      },
      "source": [
        "weight=float (input('please enter your weight in pounds  '))\n",
        "height=float (input('please enter you height in inches  '))\n",
        "BMI= weight *703 / height**2\n",
        "print ('your BMI is  ',format(BMI,'.1f'))\n",
        "if BMI >= 18.5 and BMI <=25:\n",
        "  print('your weight is optimal')\n",
        "if BMI < 18.5 :\n",
        "  print('you are considered to be underweight')\n",
        "if BMI >25: \n",
        "  print('you are considered to be overweight')\n",
        "  \n"
      ],
      "execution_count": 17,
      "outputs": [
        {
          "output_type": "stream",
          "text": [
            "please enter your weight in pounds  60\n",
            "please enter you height in inches  160\n",
            "your BMI is   1.6\n",
            "you are considered to be underweight\n"
          ],
          "name": "stdout"
        }
      ]
    }
  ]
}